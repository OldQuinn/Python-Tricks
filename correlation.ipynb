{
 "cells": [
  {
   "cell_type": "markdown",
   "metadata": {},
   "source": [
    "## Python 实现 correlation计算"
   ]
  },
  {
   "cell_type": "code",
   "execution_count": 1,
   "metadata": {},
   "outputs": [],
   "source": [
    "from math import sqrt\n",
    "\n",
    "def mean(input_array):\n",
    "    for i in range(0,(len(input_array)-1)):\n",
    "        input_array[i] = float(input_array[i])\n",
    "    total_sum = 0.00\n",
    "    for value in input_array:\n",
    "        total_sum = total_sum + value\n",
    "    return float(total_sum/len(input_array))\n",
    "\n",
    "def standard_deviation(input_array):\n",
    "    mu = mean(input_array)\n",
    "    variance_numerator = 0.00\n",
    "    for val in input_array:\n",
    "        variance_numerator = variance_numerator + (val - mu)**2 #Sigma((x-mu)^2)\n",
    "    variance = variance_numerator/len(input_array)\n",
    "    return sqrt(variance)\n",
    "\n",
    "def covariance(x_array, y_array):\n",
    "    if len(x_array) != len(y_array):\n",
    "        return \"fail\"\n",
    "    x_mu = mean(x_array)\n",
    "    y_mu = mean(y_array)\n",
    "    covariance_numerator = 0.00\n",
    "    for i in range(len(x_array)):\n",
    "        covariance_numerator = covariance_numerator + (x_array[i] - x_mu)*(y_array[i] - y_mu)\n",
    "    return covariance_numerator/len(x_array)\n",
    "\n",
    "def correlation(x_array,y_array):\n",
    "    if covariance(x_array,y_array) != \"fail\":\n",
    "        return covariance(x_array,y_array)/((standard_deviation(x_array))*(standard_deviation(y_array)))\n",
    "    else:\n",
    "        return \"fail\"\n",
    "\n"
   ]
  },
  {
   "cell_type": "code",
   "execution_count": 2,
   "metadata": {},
   "outputs": [
    {
     "name": "stdout",
     "output_type": "stream",
     "text": [
      "0.9233805168766386\n"
     ]
    }
   ],
   "source": [
    "xinp = [1,2,2,4]\n",
    "yinp = [2,4,6,8]\n",
    "print(correlation(xinp,yinp))"
   ]
  },
  {
   "cell_type": "code",
   "execution_count": null,
   "metadata": {},
   "outputs": [],
   "source": []
  }
 ],
 "metadata": {
  "kernelspec": {
   "display_name": "Python 3",
   "language": "python",
   "name": "python3"
  },
  "language_info": {
   "codemirror_mode": {
    "name": "ipython",
    "version": 3
   },
   "file_extension": ".py",
   "mimetype": "text/x-python",
   "name": "python",
   "nbconvert_exporter": "python",
   "pygments_lexer": "ipython3",
   "version": "3.7.3"
  }
 },
 "nbformat": 4,
 "nbformat_minor": 2
}
