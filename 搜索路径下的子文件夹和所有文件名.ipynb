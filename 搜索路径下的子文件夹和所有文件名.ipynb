{
 "cells": [
  {
   "cell_type": "markdown",
   "metadata": {},
   "source": [
    "# 搜索路径下的子文件夹和所有文件名"
   ]
  },
  {
   "cell_type": "markdown",
   "metadata": {},
   "source": [
    "### 搜索当前路径下的所有子文件夹"
   ]
  },
  {
   "cell_type": "code",
   "execution_count": 2,
   "metadata": {},
   "outputs": [],
   "source": [
    "import glob\n",
    "import os\n",
    "def traversalDir_FirstDir(path):\n",
    "    folder_list = []\n",
    "    if (os.path.exists(path)):\n",
    "    #获取该目录下的所有文件或文件夹目录路径\n",
    "        files = glob.glob(path + '/*' )\n",
    "        # print(files)\n",
    "        for file in files:\n",
    "            #判断该路径下是否是文件夹\n",
    "            if (os.path.isdir(file)):\n",
    "                #分成路径和文件的二元元组\n",
    "                h = os.path.split(file)\n",
    "                # print(h[1])\n",
    "                folder_list.append(h[1])\n",
    "        return folder_list\n",
    "\n",
    "folder_list = traversalDir_FirstDir(path)\n",
    "\n",
    "# Reference: https://blog.csdn.net/xiaobai_ol/article/details/52442977"
   ]
  },
  {
   "cell_type": "code",
   "execution_count": null,
   "metadata": {},
   "outputs": [],
   "source": []
  },
  {
   "cell_type": "markdown",
   "metadata": {},
   "source": [
    "### 搜索当前路径下的所有文件名"
   ]
  },
  {
   "cell_type": "code",
   "execution_count": null,
   "metadata": {},
   "outputs": [],
   "source": [
    "import os\n",
    "\n",
    "for x1,x2,x3 in os.walk(path):\n",
    "    ins_list = x3\n",
    "    return ins_list\n",
    "\n",
    "'''\n",
    "函数执行之后得到一个三元tupple（dirpath， dirnames， filenams。\n",
    "dirpath：string，是当前目录的路径；\n",
    "dirnames：list， 是当前路径下所有的子文件夹名字；\n",
    "filenames：list， 是当前路径下所有的非目录子文件的名字。\n",
    "\n",
    "Reference: https://blog.csdn.net/JohinieLi/article/details/76660733 \n",
    "'''"
   ]
  },
  {
   "cell_type": "code",
   "execution_count": null,
   "metadata": {},
   "outputs": [],
   "source": []
  }
 ],
 "metadata": {
  "kernelspec": {
   "display_name": "Python 3",
   "language": "python",
   "name": "python3"
  },
  "language_info": {
   "codemirror_mode": {
    "name": "ipython",
    "version": 3
   },
   "file_extension": ".py",
   "mimetype": "text/x-python",
   "name": "python",
   "nbconvert_exporter": "python",
   "pygments_lexer": "ipython3",
   "version": "3.6.7"
  }
 },
 "nbformat": 4,
 "nbformat_minor": 2
}
